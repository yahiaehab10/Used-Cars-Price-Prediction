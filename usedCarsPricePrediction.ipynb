{
 "cells": [
  {
   "cell_type": "markdown",
   "metadata": {},
   "source": [
    "# Project I ML \n",
    "### Yahia Ehab Mohamed 7037125\n",
    "### Ahmed Shehata 7005537"
   ]
  },
  {
   "cell_type": "markdown",
   "metadata": {},
   "source": [
    "## Data Preparation"
   ]
  },
  {
   "cell_type": "code",
   "execution_count": 51,
   "metadata": {
    "ExecuteTime": {
     "end_time": "2023-10-19T16:26:53.271851100Z",
     "start_time": "2023-10-19T16:26:53.073261300Z"
    }
   },
   "outputs": [],
   "source": [
    "import pandas as pd\n",
    "import numpy as np\n",
    "\n",
    "train_data = pd.read_csv('Dataset_ML/Train.csv')\n",
    "test_data = pd.read_csv('Dataset_ML/Test.csv')"
   ]
  },
  {
   "cell_type": "markdown",
   "metadata": {},
   "source": [
    "## Data Exploration"
   ]
  },
  {
   "cell_type": "markdown",
   "metadata": {},
   "source": [
    "### Explore Data Set"
   ]
  },
  {
   "cell_type": "code",
   "execution_count": null,
   "metadata": {
    "ExecuteTime": {
     "end_time": "2023-10-19T16:26:53.289772Z",
     "start_time": "2023-10-19T16:26:53.109590100Z"
    }
   },
   "outputs": [],
   "source": [
    "train_data.head()"
   ]
  },
  {
   "cell_type": "code",
   "execution_count": null,
   "metadata": {
    "ExecuteTime": {
     "end_time": "2023-10-19T16:26:53.292765300Z",
     "start_time": "2023-10-19T16:26:53.116208300Z"
    }
   },
   "outputs": [],
   "source": [
    "test_data.head()"
   ]
  },
  {
   "cell_type": "markdown",
   "metadata": {},
   "source": [
    "### Check For Missing Values"
   ]
  },
  {
   "cell_type": "code",
   "execution_count": null,
   "metadata": {
    "ExecuteTime": {
     "end_time": "2023-10-19T16:26:53.316822300Z",
     "start_time": "2023-10-19T16:26:53.134465300Z"
    }
   },
   "outputs": [],
   "source": [
    "train_data.info()\n",
    "\n",
    "train_data.describe()"
   ]
  },
  {
   "cell_type": "code",
   "execution_count": null,
   "metadata": {
    "ExecuteTime": {
     "end_time": "2023-10-19T16:26:53.334351700Z",
     "start_time": "2023-10-19T16:26:53.165179500Z"
    }
   },
   "outputs": [],
   "source": [
    "test_data.info()\n",
    "\n",
    "test_data.describe()"
   ]
  },
  {
   "cell_type": "markdown",
   "metadata": {},
   "source": [
    "## Linear Regression"
   ]
  },
  {
   "cell_type": "markdown",
   "metadata": {},
   "source": [
    "### Model Setup"
   ]
  },
  {
   "cell_type": "code",
   "execution_count": 70,
   "metadata": {
    "ExecuteTime": {
     "end_time": "2023-10-19T16:26:53.335348400Z",
     "start_time": "2023-10-19T16:26:53.195469800Z"
    }
   },
   "outputs": [],
   "source": [
    "# Linear Regression\n",
    "from sklearn.linear_model import LinearRegression\n",
    "model_LR = LinearRegression()\n",
    "\n",
    "#Gradient Descent\n",
    "from sklearn.linear_model import SGDRegressor\n",
    "model_sgd = SGDRegressor(random_state=0) #ASK : What is random_state? ADN Should it be 0 ?"
   ]
  },
  {
   "cell_type": "markdown",
   "metadata": {},
   "source": [
    "#### Data Split"
   ]
  },
  {
   "cell_type": "code",
   "execution_count": null,
   "metadata": {
    "ExecuteTime": {
     "end_time": "2023-10-19T16:26:53.335348400Z",
     "start_time": "2023-10-19T16:26:53.208134Z"
    }
   },
   "outputs": [],
   "source": [
    "x = train_data[['year','km_driven']]\n",
    "y = train_data['selling_price']\n",
    "\n",
    "x_test = test_data[['year','km_driven']]\n",
    "y_test = test_data['selling_price']"
   ]
  },
  {
   "cell_type": "markdown",
   "metadata": {},
   "source": [
    "### Multi-Feature Equation"
   ]
  },
  {
   "cell_type": "markdown",
   "metadata": {},
   "source": [
    "#### Train"
   ]
  },
  {
   "cell_type": "code",
   "execution_count": null,
   "metadata": {
    "ExecuteTime": {
     "end_time": "2023-10-19T16:26:53.336345500Z",
     "start_time": "2023-10-19T16:26:53.224358700Z"
    }
   },
   "outputs": [],
   "source": [
    "model_LR.fit(x,y)\n",
    "\n",
    "model_LR.coef_"
   ]
  },
  {
   "cell_type": "markdown",
   "metadata": {},
   "source": [
    "#### Test"
   ]
  },
  {
   "cell_type": "code",
   "execution_count": null,
   "metadata": {
    "ExecuteTime": {
     "end_time": "2023-10-19T16:26:53.336345500Z",
     "start_time": "2023-10-19T16:26:53.241877900Z"
    }
   },
   "outputs": [],
   "source": [
    "yPred_LR = model_LR.predict(x_test)\n",
    "\n",
    "yPred_LR"
   ]
  },
  {
   "cell_type": "markdown",
   "metadata": {},
   "source": [
    "#### Accuracy Comparison"
   ]
  },
  {
   "cell_type": "code",
   "execution_count": null,
   "metadata": {
    "ExecuteTime": {
     "end_time": "2023-10-19T16:26:53.338886900Z",
     "start_time": "2023-10-19T16:26:53.259900100Z"
    }
   },
   "outputs": [],
   "source": [
    "#RMSE & MSE\n",
    "from sklearn.metrics import mean_squared_error\n",
    "mse_LR = mean_squared_error(y_test,yPred_LR)\n",
    "rmse_LR = np.sqrt(mse_LR)\n",
    "print(\"MSE: \",mse_LR)\n",
    "print(\"RMSE: \",rmse_LR)\n",
    "\n",
    "#MAE\n",
    "from sklearn.metrics import mean_absolute_error\n",
    "mae_LR = mean_absolute_error(y_test,yPred_LR)\n",
    "print(\"MAE: \",mae_LR)"
   ]
  },
  {
   "cell_type": "markdown",
   "metadata": {},
   "source": [
    "### Gradient Descent"
   ]
  },
  {
   "cell_type": "markdown",
   "metadata": {},
   "source": [
    "#### Train"
   ]
  },
  {
   "cell_type": "code",
   "execution_count": 82,
   "metadata": {
    "ExecuteTime": {
     "end_time": "2023-10-19T16:26:53.434656100Z",
     "start_time": "2023-10-19T16:26:53.270854500Z"
    }
   },
   "outputs": [
    {
     "data": {
      "text/plain": [
       "array([-2.33258172e+13,  1.40839730e+13])"
      ]
     },
     "execution_count": 82,
     "metadata": {},
     "output_type": "execute_result"
    }
   ],
   "source": [
    "model_sgd.fit(x,y)\n",
    "\n",
    "model_sgd.coef_"
   ]
  },
  {
   "cell_type": "markdown",
   "metadata": {},
   "source": [
    "#### Test"
   ]
  },
  {
   "cell_type": "code",
   "execution_count": 85,
   "metadata": {
    "ExecuteTime": {
     "end_time": "2023-10-19T16:26:53.471552600Z",
     "start_time": "2023-10-19T16:26:53.339884100Z"
    }
   },
   "outputs": [
    {
     "data": {
      "text/plain": [
       "array([9.39063183e+17, 6.57383723e+17, 1.36146574e+18, ...,\n",
       "       1.12210818e+18, 1.22053271e+18, 5.16334061e+17])"
      ]
     },
     "execution_count": 85,
     "metadata": {},
     "output_type": "execute_result"
    }
   ],
   "source": [
    "yPred_GD = model_sgd.predict(x_test)\n",
    "\n",
    "yPred_GD"
   ]
  },
  {
   "cell_type": "markdown",
   "metadata": {},
   "source": [
    "#### Accuracy Comparison"
   ]
  },
  {
   "cell_type": "code",
   "execution_count": 89,
   "metadata": {
    "ExecuteTime": {
     "end_time": "2023-10-19T16:28:46.144170600Z",
     "start_time": "2023-10-19T16:28:46.073006300Z"
    }
   },
   "outputs": [
    {
     "name": "stdout",
     "output_type": "stream",
     "text": [
      "MSE:  1.215847681438471e+36\n",
      "RMSE:  1.1026548333175123e+18\n",
      "MAE:  8.864233867097068e+17\n"
     ]
    }
   ],
   "source": [
    "#RMSE & MSE\n",
    "from sklearn.metrics import mean_squared_error\n",
    "mse_GD = mean_squared_error(y_test,yPred_GD)\n",
    "rmse_GD = np.sqrt(mse_GD)\n",
    "print(\"MSE: \",mse_GD)\n",
    "print(\"RMSE: \",rmse_GD)\n",
    "\n",
    "#MAE\n",
    "from sklearn.metrics import mean_absolute_error\n",
    "mae_GD= mean_absolute_error(y_test,yPred_GD)\n",
    "\n",
    "print(\"MAE: \",mae_GD)"
   ]
  },
  {
   "cell_type": "markdown",
   "metadata": {},
   "source": [
    "## Polynomial Regression"
   ]
  },
  {
   "cell_type": "code",
   "execution_count": null,
   "metadata": {
    "ExecuteTime": {
     "end_time": "2023-10-19T16:26:53.573968100Z",
     "start_time": "2023-10-19T16:26:53.380481900Z"
    }
   },
   "outputs": [],
   "source": []
  }
 ],
 "metadata": {
  "kernelspec": {
   "display_name": "Python 3",
   "language": "python",
   "name": "python3"
  },
  "language_info": {
   "codemirror_mode": {
    "name": "ipython",
    "version": 3
   },
   "file_extension": ".py",
   "mimetype": "text/x-python",
   "name": "python",
   "nbconvert_exporter": "python",
   "pygments_lexer": "ipython3",
   "version": "3.11.2"
  }
 },
 "nbformat": 4,
 "nbformat_minor": 2
}
