{
 "cells": [
  {
   "cell_type": "markdown",
   "metadata": {},
   "source": [
    "Notes\n",
    "\n",
    "Name: Unless you have a well-defined dataset with historical prices for specific car models, using the name may not be practical.\n",
    "\n",
    "Seller Type: While the seller type can influence the price, it might not be a primary factor, and including it may lead to overcomplicating the model."
   ]
  },
  {
   "cell_type": "markdown",
   "metadata": {},
   "source": [
    "# Project I ML \n",
    "### Yahia Ehab Mohamed 7037125\n",
    "### Ahmed Shehata 7005537"
   ]
  },
  {
   "cell_type": "markdown",
   "metadata": {},
   "source": [
    "## Data Preparation"
   ]
  },
  {
   "cell_type": "code",
   "execution_count": 1,
   "metadata": {
    "ExecuteTime": {
     "end_time": "2023-10-26T15:38:00.837286300Z",
     "start_time": "2023-10-26T15:37:57.929131400Z"
    }
   },
   "outputs": [],
   "source": [
    "import pandas as pd\n",
    "import numpy as np\n",
    "\n",
    "train_data = pd.read_csv('Dataset_ML/Train.csv')\n",
    "test_data = pd.read_csv('Dataset_ML/Test.csv')\n"
   ]
  },
  {
   "cell_type": "markdown",
   "metadata": {},
   "source": [
    "## Data Exploration"
   ]
  },
  {
   "cell_type": "code",
   "execution_count": 46,
   "outputs": [
    {
     "name": "stdout",
     "output_type": "stream",
     "text": [
      "#outliers  600\n",
      "length of set 8128\n",
      "Outlier Indices: [  41   47   49   55   57   58   59   60   75   82  110  131  132  133\n",
      "  134  135  136  137  138  139  140  141  142  145  146  148  151  156\n",
      "  158  163  165  166  167  170  187  257  288  350  362  370  371  372\n",
      "  374  375  384  385  388  409  410  411  413  414  423  424  427  452\n",
      "  468  470  526  550  569  595  600  646  647  648  650  651  660  661\n",
      "  664  681  742  906  970 1007 1039 1057 1060 1063 1064 1065 1066 1067\n",
      " 1071 1073 1075 1077 1078 1079 1081 1082 1091 1092 1095 1096 1097 1098\n",
      " 1100 1101 1110 1111 1114 1115 1116 1117 1119 1120 1129 1130 1133 1134\n",
      " 1135 1136 1138 1139 1148 1149 1152 1255 1360 1397 1410 1530 1540 1561\n",
      " 1562 1563 1564 1572 1586 1590 1636 1674 1676 1689 1709 1710 1711 1713\n",
      " 1714 1723 1724 1727 1748 1752 1767 1821 1828 1830 1834 1835 1857 1858\n",
      " 1859 1860 1863 1871 1872 1906 1923 1969 1977 1978 1979 1980 1984 1989\n",
      " 1990 1993 1994 2012 2038 2106 2109 2129 2131 2135 2137 2229 2397 2537\n",
      " 2619 2622 2630 2631 2632 2634 2635 2644 2645 2648 2657 2663 2664 2665\n",
      " 2667 2668 2677 2678 2681 2702 2704 2705 2795 2823 2826 2827 2828 2829\n",
      " 2832 2840 2866 2881 2918 2938 2943 3066 3078 3079 3080 3082 3083 3092\n",
      " 3093 3096 3110 3111 3184 3214 3236 3237 3238 3239 3240 3241 3242 3243\n",
      " 3245 3248 3251 3351 3352 3357 3360 3392 3408 3409 3410 3412 3413 3422\n",
      " 3423 3426 3449 3456 3516 3517 3518 3520 3521 3530 3531 3534 3542 3572\n",
      " 3605 3607 3611 3686 3725 3749 3775 3831 3832 3833 3835 3836 3845 3846\n",
      " 3849 3871 3938 3964 3987 4019 4030 4080 4083 4086 4089 4090 4091 4093\n",
      " 4097 4101 4136 4179 4180 4195 4196 4208 4215 4216 4217 4219 4220 4229\n",
      " 4230 4233 4234 4235 4236 4238 4239 4248 4249 4252 4255 4256 4257 4259\n",
      " 4260 4269 4270 4273 4320 4321 4322 4324 4325 4334 4335 4338 4356 4364\n",
      " 4375 4377 4380 4383 4384 4393 4395 4399 4414 4415 4416 4418 4419 4428\n",
      " 4429 4432 4504 4511 4525 4527 4589 4670 4671 4675 4676 4678 4680 4682\n",
      " 4704 4706 4707 4738 4739 4753 4757 4758 4763 4766 4772 4782 4785 4787\n",
      " 4788 4789 4791 4796 4799 4815 4816 4817 4819 4820 4829 4830 4833 4851\n",
      " 4940 4941 4945 4950 4951 4952 5020 5036 5077 5083 5084 5085 5087 5088\n",
      " 5097 5098 5101 5124 5126 5188 5245 5246 5247 5248 5249 5252 5253 5255\n",
      " 5256 5257 5258 5259 5261 5262 5283 5312 5318 5321 5355 5430 5506 5511\n",
      " 5528 5538 5614 5615 5616 5618 5619 5628 5629 5632 5647 5710 5774 5823\n",
      " 5828 5836 5858 5897 5985 6042 6043 6044 6046 6103 6104 6166 6167 6168\n",
      " 6170 6171 6180 6181 6184 6213 6215 6217 6220 6248 6255 6258 6279 6282\n",
      " 6296 6297 6308 6327 6364 6371 6456 6468 6554 6555 6556 6558 6559 6568\n",
      " 6569 6572 6573 6574 6575 6577 6578 6587 6588 6591 6638 6681 6689 6690\n",
      " 6691 6693 6694 6703 6704 6707 6720 6724 6820 6881 6895 6900 6903 6959\n",
      " 6960 6961 6963 6964 6973 6974 6977 6989 6999 7007 7047 7077 7129 7174\n",
      " 7176 7178 7189 7324 7325 7326 7331 7337 7340 7343 7368 7370 7374 7379\n",
      " 7411 7447 7477 7495 7506 7508 7516 7522 7561 7596 7661 7699 7700 7701\n",
      " 7702 7703 7705 7709 7710 7711 7713 7716 7744 7747 7749 7756 7757 7772\n",
      " 7775 7792 7797 7808 7840 7858 7859 7860 7862 7863 7872 7873 7876 7892\n",
      " 7906 7919 7920 7922 7925 7930 7931 7949 7967 7973 8058 8108]\n"
     ]
    }
   ],
   "source": [
    "import numpy as np\n",
    "\n",
    "# Calculate Q1 and Q3\n",
    "Q1 = np.percentile(train_data['selling_price'], 25)\n",
    "Q3 = np.percentile(train_data['selling_price'], 75)\n",
    "\n",
    "# Calculate the IQR\n",
    "IQR = Q3 - Q1\n",
    "\n",
    "# Define the lower and upper bounds for outliers\n",
    "lower_bound = Q1 - 1.5 * IQR\n",
    "upper_bound = Q3 + 1.5 * IQR\n",
    "\n",
    "# Find outliers\n",
    "outliers = (train_data['selling_price'] < lower_bound) | (train_data['selling_price'] > upper_bound)\n",
    "\n",
    "# Indexes of outlier data points\n",
    "outlier_indices = np.where(outliers)[0]\n",
    "print(\"#outliers \",len(outlier_indices))\n",
    "print(\"length of set\",len(train_data))\n",
    "\n",
    "# Values of outlier data points\n",
    "#outlier_values = train_data[outlier_indices]\n",
    "\n",
    "print(\"Outlier Indices:\", outlier_indices)\n",
    "\n",
    "#print(\"Outlier Values:\", outlier_values)\n",
    "\n",
    "\n"
   ],
   "metadata": {
    "collapsed": false,
    "ExecuteTime": {
     "end_time": "2023-10-26T16:57:33.841372700Z",
     "start_time": "2023-10-26T16:57:33.808166300Z"
    }
   }
  },
  {
   "cell_type": "code",
   "execution_count": 2,
   "metadata": {
    "ExecuteTime": {
     "end_time": "2023-10-26T15:38:00.919914700Z",
     "start_time": "2023-10-26T15:38:00.841278900Z"
    }
   },
   "outputs": [
    {
     "data": {
      "text/plain": "                           name  year  selling_price  km_driven  fuel  \\\n0        Maruti Swift Dzire VDI  2014         450000     145500     1   \n1  Skoda Rapid 1.5 TDI Ambition  2014         370000     120000     1   \n2      Honda City 2017-2020 EXi  2006         158000     140000     3   \n3     Hyundai i20 Sportz Diesel  2010         225000     127000     1   \n4        Maruti Swift VXI BSIII  2007         130000     120000     3   \n\n  seller_type  transmission  owner  \n0  Individual             1      0  \n1  Individual             1      2  \n2  Individual             1      4  \n3  Individual             1      0  \n4  Individual             1      0  ",
      "text/html": "<div>\n<style scoped>\n    .dataframe tbody tr th:only-of-type {\n        vertical-align: middle;\n    }\n\n    .dataframe tbody tr th {\n        vertical-align: top;\n    }\n\n    .dataframe thead th {\n        text-align: right;\n    }\n</style>\n<table border=\"1\" class=\"dataframe\">\n  <thead>\n    <tr style=\"text-align: right;\">\n      <th></th>\n      <th>name</th>\n      <th>year</th>\n      <th>selling_price</th>\n      <th>km_driven</th>\n      <th>fuel</th>\n      <th>seller_type</th>\n      <th>transmission</th>\n      <th>owner</th>\n    </tr>\n  </thead>\n  <tbody>\n    <tr>\n      <th>0</th>\n      <td>Maruti Swift Dzire VDI</td>\n      <td>2014</td>\n      <td>450000</td>\n      <td>145500</td>\n      <td>1</td>\n      <td>Individual</td>\n      <td>1</td>\n      <td>0</td>\n    </tr>\n    <tr>\n      <th>1</th>\n      <td>Skoda Rapid 1.5 TDI Ambition</td>\n      <td>2014</td>\n      <td>370000</td>\n      <td>120000</td>\n      <td>1</td>\n      <td>Individual</td>\n      <td>1</td>\n      <td>2</td>\n    </tr>\n    <tr>\n      <th>2</th>\n      <td>Honda City 2017-2020 EXi</td>\n      <td>2006</td>\n      <td>158000</td>\n      <td>140000</td>\n      <td>3</td>\n      <td>Individual</td>\n      <td>1</td>\n      <td>4</td>\n    </tr>\n    <tr>\n      <th>3</th>\n      <td>Hyundai i20 Sportz Diesel</td>\n      <td>2010</td>\n      <td>225000</td>\n      <td>127000</td>\n      <td>1</td>\n      <td>Individual</td>\n      <td>1</td>\n      <td>0</td>\n    </tr>\n    <tr>\n      <th>4</th>\n      <td>Maruti Swift VXI BSIII</td>\n      <td>2007</td>\n      <td>130000</td>\n      <td>120000</td>\n      <td>3</td>\n      <td>Individual</td>\n      <td>1</td>\n      <td>0</td>\n    </tr>\n  </tbody>\n</table>\n</div>"
     },
     "execution_count": 2,
     "metadata": {},
     "output_type": "execute_result"
    }
   ],
   "source": [
    "#Change type of name , fuel , seller_type , transmission , owner to category\n",
    "#to make it easier to convert to numerical values\n",
    "\n",
    "train_data['fuel'] = train_data['fuel'].astype('category')\n",
    "train_data['fuel'] = train_data['fuel'].cat.codes\n",
    "\n",
    "train_data['transmission'] = train_data['transmission'].astype('category')\n",
    "train_data['transmission'] = train_data['transmission'].cat.codes\n",
    "\n",
    "train_data['owner'] = train_data['owner'].astype('category')\n",
    "train_data['owner'] = train_data['owner'].cat.codes\n",
    "\n",
    "train_data.head()"
   ]
  },
  {
   "cell_type": "code",
   "execution_count": 3,
   "metadata": {
    "ExecuteTime": {
     "end_time": "2023-10-26T15:38:00.961697700Z",
     "start_time": "2023-10-26T15:38:00.901763Z"
    }
   },
   "outputs": [
    {
     "data": {
      "text/plain": "                       name  year  selling_price  km_driven  fuel seller_type  \\\n0             Maruti 800 AC  2007          60000      70000     4  Individual   \n1  Maruti Wagon R LXI Minor  2007         135000      50000     4  Individual   \n2      Hyundai Verna 1.6 SX  2012         600000     100000     1  Individual   \n3    Datsun RediGO T Option  2017         250000      46000     4  Individual   \n4     Honda Amaze VX i-DTEC  2014         450000     141000     1  Individual   \n\n   transmission  owner  \n0             1      0  \n1             1      0  \n2             1      0  \n3             1      0  \n4             1      2  ",
      "text/html": "<div>\n<style scoped>\n    .dataframe tbody tr th:only-of-type {\n        vertical-align: middle;\n    }\n\n    .dataframe tbody tr th {\n        vertical-align: top;\n    }\n\n    .dataframe thead th {\n        text-align: right;\n    }\n</style>\n<table border=\"1\" class=\"dataframe\">\n  <thead>\n    <tr style=\"text-align: right;\">\n      <th></th>\n      <th>name</th>\n      <th>year</th>\n      <th>selling_price</th>\n      <th>km_driven</th>\n      <th>fuel</th>\n      <th>seller_type</th>\n      <th>transmission</th>\n      <th>owner</th>\n    </tr>\n  </thead>\n  <tbody>\n    <tr>\n      <th>0</th>\n      <td>Maruti 800 AC</td>\n      <td>2007</td>\n      <td>60000</td>\n      <td>70000</td>\n      <td>4</td>\n      <td>Individual</td>\n      <td>1</td>\n      <td>0</td>\n    </tr>\n    <tr>\n      <th>1</th>\n      <td>Maruti Wagon R LXI Minor</td>\n      <td>2007</td>\n      <td>135000</td>\n      <td>50000</td>\n      <td>4</td>\n      <td>Individual</td>\n      <td>1</td>\n      <td>0</td>\n    </tr>\n    <tr>\n      <th>2</th>\n      <td>Hyundai Verna 1.6 SX</td>\n      <td>2012</td>\n      <td>600000</td>\n      <td>100000</td>\n      <td>1</td>\n      <td>Individual</td>\n      <td>1</td>\n      <td>0</td>\n    </tr>\n    <tr>\n      <th>3</th>\n      <td>Datsun RediGO T Option</td>\n      <td>2017</td>\n      <td>250000</td>\n      <td>46000</td>\n      <td>4</td>\n      <td>Individual</td>\n      <td>1</td>\n      <td>0</td>\n    </tr>\n    <tr>\n      <th>4</th>\n      <td>Honda Amaze VX i-DTEC</td>\n      <td>2014</td>\n      <td>450000</td>\n      <td>141000</td>\n      <td>1</td>\n      <td>Individual</td>\n      <td>1</td>\n      <td>2</td>\n    </tr>\n  </tbody>\n</table>\n</div>"
     },
     "execution_count": 3,
     "metadata": {},
     "output_type": "execute_result"
    }
   ],
   "source": [
    "#Change type of name , fuel , seller_type , transmission , owner to category\n",
    "#to make it easier to convert to numerical values\n",
    "\n",
    "test_data['fuel'] = test_data['fuel'].astype('category')\n",
    "test_data['fuel'] = test_data['fuel'].cat.codes\n",
    "\n",
    "test_data['transmission'] = test_data['transmission'].astype('category')\n",
    "test_data['transmission'] = test_data['transmission'].cat.codes\n",
    "\n",
    "test_data['owner'] = test_data['owner'].astype('category')\n",
    "test_data['owner'] = test_data['owner'].cat.codes\n",
    "\n",
    "test_data.head()"
   ]
  },
  {
   "cell_type": "markdown",
   "metadata": {},
   "source": [
    "### Explore Data Set"
   ]
  },
  {
   "cell_type": "markdown",
   "metadata": {},
   "source": [
    "### Check For Missing Values"
   ]
  },
  {
   "cell_type": "code",
   "execution_count": 4,
   "metadata": {
    "ExecuteTime": {
     "end_time": "2023-10-26T15:38:01.069709800Z",
     "start_time": "2023-10-26T15:38:00.946432100Z"
    }
   },
   "outputs": [
    {
     "name": "stdout",
     "output_type": "stream",
     "text": [
      "<class 'pandas.core.frame.DataFrame'>\n",
      "RangeIndex: 8128 entries, 0 to 8127\n",
      "Data columns (total 8 columns):\n",
      " #   Column         Non-Null Count  Dtype \n",
      "---  ------         --------------  ----- \n",
      " 0   name           8128 non-null   object\n",
      " 1   year           8128 non-null   int64 \n",
      " 2   selling_price  8128 non-null   int64 \n",
      " 3   km_driven      8128 non-null   int64 \n",
      " 4   fuel           8128 non-null   int8  \n",
      " 5   seller_type    8128 non-null   object\n",
      " 6   transmission   8128 non-null   int8  \n",
      " 7   owner          8128 non-null   int8  \n",
      "dtypes: int64(3), int8(3), object(2)\n",
      "memory usage: 341.4+ KB\n"
     ]
    }
   ],
   "source": [
    "train_data.info()"
   ]
  },
  {
   "cell_type": "code",
   "execution_count": 5,
   "metadata": {
    "ExecuteTime": {
     "end_time": "2023-10-26T15:38:01.131491600Z",
     "start_time": "2023-10-26T15:38:00.974845600Z"
    }
   },
   "outputs": [
    {
     "name": "stdout",
     "output_type": "stream",
     "text": [
      "<class 'pandas.core.frame.DataFrame'>\n",
      "RangeIndex: 4340 entries, 0 to 4339\n",
      "Data columns (total 8 columns):\n",
      " #   Column         Non-Null Count  Dtype \n",
      "---  ------         --------------  ----- \n",
      " 0   name           4340 non-null   object\n",
      " 1   year           4340 non-null   int64 \n",
      " 2   selling_price  4340 non-null   int64 \n",
      " 3   km_driven      4340 non-null   int64 \n",
      " 4   fuel           4340 non-null   int8  \n",
      " 5   seller_type    4340 non-null   object\n",
      " 6   transmission   4340 non-null   int8  \n",
      " 7   owner          4340 non-null   int8  \n",
      "dtypes: int64(3), int8(3), object(2)\n",
      "memory usage: 182.4+ KB\n"
     ]
    }
   ],
   "source": [
    "test_data.info()"
   ]
  },
  {
   "cell_type": "markdown",
   "metadata": {},
   "source": [
    "#### Drop Nan "
   ]
  },
  {
   "cell_type": "code",
   "execution_count": 6,
   "metadata": {
    "ExecuteTime": {
     "end_time": "2023-10-26T15:38:01.165502100Z",
     "start_time": "2023-10-26T15:38:00.988051600Z"
    }
   },
   "outputs": [],
   "source": [
    "#Drop Nan values from train set\n",
    "train_data.dropna(inplace=True)\n",
    "\n",
    "#Drop Nan values from test set\n",
    "test_data.dropna(inplace=True)"
   ]
  },
  {
   "cell_type": "markdown",
   "metadata": {},
   "source": [
    "## Linear Regression"
   ]
  },
  {
   "cell_type": "markdown",
   "metadata": {},
   "source": [
    "### Model Setup"
   ]
  },
  {
   "cell_type": "markdown",
   "metadata": {},
   "source": [
    "#### Data Split"
   ]
  },
  {
   "cell_type": "code",
   "execution_count": 7,
   "metadata": {
    "ExecuteTime": {
     "end_time": "2023-10-26T15:38:01.167498500Z",
     "start_time": "2023-10-26T15:38:01.006236600Z"
    }
   },
   "outputs": [
    {
     "data": {
      "text/plain": "   year  km_driven  fuel  transmission  owner\n0  2014     145500     1             1      0\n1  2014     120000     1             1      2\n2  2006     140000     3             1      4\n3  2010     127000     1             1      0\n4  2007     120000     3             1      0",
      "text/html": "<div>\n<style scoped>\n    .dataframe tbody tr th:only-of-type {\n        vertical-align: middle;\n    }\n\n    .dataframe tbody tr th {\n        vertical-align: top;\n    }\n\n    .dataframe thead th {\n        text-align: right;\n    }\n</style>\n<table border=\"1\" class=\"dataframe\">\n  <thead>\n    <tr style=\"text-align: right;\">\n      <th></th>\n      <th>year</th>\n      <th>km_driven</th>\n      <th>fuel</th>\n      <th>transmission</th>\n      <th>owner</th>\n    </tr>\n  </thead>\n  <tbody>\n    <tr>\n      <th>0</th>\n      <td>2014</td>\n      <td>145500</td>\n      <td>1</td>\n      <td>1</td>\n      <td>0</td>\n    </tr>\n    <tr>\n      <th>1</th>\n      <td>2014</td>\n      <td>120000</td>\n      <td>1</td>\n      <td>1</td>\n      <td>2</td>\n    </tr>\n    <tr>\n      <th>2</th>\n      <td>2006</td>\n      <td>140000</td>\n      <td>3</td>\n      <td>1</td>\n      <td>4</td>\n    </tr>\n    <tr>\n      <th>3</th>\n      <td>2010</td>\n      <td>127000</td>\n      <td>1</td>\n      <td>1</td>\n      <td>0</td>\n    </tr>\n    <tr>\n      <th>4</th>\n      <td>2007</td>\n      <td>120000</td>\n      <td>3</td>\n      <td>1</td>\n      <td>0</td>\n    </tr>\n  </tbody>\n</table>\n</div>"
     },
     "execution_count": 7,
     "metadata": {},
     "output_type": "execute_result"
    }
   ],
   "source": [
    "#Split the dataset into train and test set\n",
    "x_train = train_data.drop(['selling_price','name','seller_type'], axis=1)\n",
    "y_train = train_data['selling_price']\n",
    "\n",
    "x_test = test_data.drop(['selling_price','name','seller_type'], axis=1)\n",
    "y_test = test_data['selling_price']\n",
    "\n",
    "x_train.head()"
   ]
  },
  {
   "cell_type": "markdown",
   "metadata": {},
   "source": [
    "### Multi-Feature Equation"
   ]
  },
  {
   "cell_type": "markdown",
   "metadata": {},
   "source": [
    "#### Train"
   ]
  },
  {
   "cell_type": "code",
   "execution_count": 37,
   "metadata": {
    "ExecuteTime": {
     "end_time": "2023-10-26T16:14:28.663785200Z",
     "start_time": "2023-10-26T16:14:28.605065900Z"
    }
   },
   "outputs": [
    {
     "name": "stdout",
     "output_type": "stream",
     "text": [
      "638271.8077017716\n",
      "      year  km_driven  fuel  transmission  owner\n",
      "0     2014     145500     1             1      0\n",
      "1     2014     120000     1             1      2\n",
      "2     2006     140000     3             1      4\n",
      "3     2010     127000     1             1      0\n",
      "4     2007     120000     3             1      0\n",
      "...    ...        ...   ...           ...    ...\n",
      "8123  2013     110000     3             1      0\n",
      "8124  2007     119000     1             1      1\n",
      "8125  2009     120000     1             1      0\n",
      "8126  2013      25000     1             1      0\n",
      "8127  2013      25000     1             1      0\n",
      "\n",
      "[8128 rows x 5 columns]\n",
      "----------\n",
      "[-9.08632306e+07  4.61900638e+04 -1.07715696e+00 -1.78090198e+05\n",
      " -1.25228429e+06 -1.68563451e+04]\n"
     ]
    }
   ],
   "source": [
    "\n",
    "y_train_mean = sum(y_train)/len(y_train.index)\n",
    "print(y_train_mean)\n",
    "\n",
    "ones = np.ones((x_train.shape[0],1),dtype=int)\n",
    "x_train_matrix_with_ones = np.hstack((ones,x_train))\n",
    "\n",
    "\n",
    "x_train_Transpose = x_train_matrix_with_ones.T\n",
    "\n",
    "\n",
    "transpose_times_x_train = np.dot(x_train_Transpose,x_train_matrix_with_ones) #cool math aya explained to me\n",
    "\n",
    "inverse_trans_dot_xTrain = np.linalg.inv(transpose_times_x_train)\n",
    "transpose_times_y_train = np.dot(x_train_Transpose,y_train)\n",
    "coeffiecients = np.dot(inverse_trans_dot_xTrain,transpose_times_y_train)\n",
    "print(coeffiecients)\n",
    "\n",
    "\n",
    "\n",
    "\n"
   ]
  },
  {
   "cell_type": "markdown",
   "metadata": {},
   "source": [
    "#### Test"
   ]
  },
  {
   "cell_type": "code",
   "execution_count": 40,
   "metadata": {
    "ExecuteTime": {
     "end_time": "2023-10-26T16:21:34.469110100Z",
     "start_time": "2023-10-26T16:21:34.428783700Z"
    }
   },
   "outputs": [
    {
     "data": {
      "text/plain": "array([259818.71211628, 313275.57283305,  66912.50850363, ...,\n       265154.31535436, 136380.68384825,  23206.57058955])"
     },
     "execution_count": 40,
     "metadata": {},
     "output_type": "execute_result"
    }
   ],
   "source": [
    "#Predict the train set\n",
    "x_test_with_ones = np.hstack((np.ones((x_test.shape[0],1),dtype=int),x_test))\n",
    "\n",
    "\n",
    "yPred_LR = np.dot(x_test_with_ones,coeffiecients)\n",
    "\n",
    "\n",
    "y_testArr = np.array(y_test)\n",
    "abs_residual_err =  np.abs(y_testArr - yPred_LR)\n",
    "abs_residual_err\n",
    "\n",
    "\n",
    "\n",
    "\n",
    "\n"
   ]
  },
  {
   "cell_type": "markdown",
   "metadata": {},
   "source": [
    "#### Accuracy Comparison"
   ]
  },
  {
   "cell_type": "code",
   "execution_count": 41,
   "metadata": {
    "ExecuteTime": {
     "end_time": "2023-10-26T16:21:53.423594900Z",
     "start_time": "2023-10-26T16:21:52.905151600Z"
    }
   },
   "outputs": [
    {
     "name": "stdout",
     "output_type": "stream",
     "text": [
      "MSE:  218929406055.62943\n",
      "RMSE:  467898.9271793957\n",
      "MAE:  312976.0537353477\n"
     ]
    }
   ],
   "source": [
    "#RMSE & MSE\n",
    "from sklearn.metrics import mean_squared_error\n",
    "mse_LR = mean_squared_error(y_test,yPred_LR)\n",
    "rmse_LR = np.sqrt(mse_LR)\n",
    "print(\"MSE: \",mse_LR)\n",
    "print(\"RMSE: \",rmse_LR)\n",
    "\n",
    "#MAE\n",
    "from sklearn.metrics import mean_absolute_error\n",
    "mae_LR = mean_absolute_error(y_test,yPred_LR)\n",
    "print(\"MAE: \",mae_LR)"
   ]
  },
  {
   "cell_type": "markdown",
   "metadata": {},
   "source": [
    "#### Computation of Residual Error"
   ]
  },
  {
   "cell_type": "code",
   "execution_count": 11,
   "metadata": {
    "ExecuteTime": {
     "end_time": "2023-10-26T15:38:06.423752900Z",
     "start_time": "2023-10-26T15:38:06.364259900Z"
    }
   },
   "outputs": [],
   "source": [
    "residuals_LR = y_test - yPred_LR\n",
    "\n",
    "print(residuals_LR)\n",
    "\n",
    "#Plot the residuals using residual plot\n",
    "import matplotlib.pyplot as plt\n",
    "plt.scatter(yPred_LR, residuals_LR)\n",
    "plt.axhline(0, color='red', linestyle='dashed')\n",
    "plt.xlabel('Predicted Values')\n",
    "plt.ylabel('Residuals')\n",
    "plt.title('Residual Plot')\n",
    "plt.show()\n"
   ]
  },
  {
   "cell_type": "markdown",
   "metadata": {},
   "source": [
    "### Gradient Descent"
   ]
  },
  {
   "cell_type": "code",
   "execution_count": 12,
   "metadata": {
    "ExecuteTime": {
     "end_time": "2023-10-26T15:38:06.424749300Z",
     "start_time": "2023-10-26T15:38:06.377533200Z"
    }
   },
   "outputs": [],
   "source": [
    "import numpy as np\n",
    "\n",
    "# Generate some synthetic data for demonstration purposes\n",
    "np.random.seed(0)\n",
    "X = 2 * np.random.rand(100, 3)  # 100 data points with 3 features\n",
    "y = 4 + np.dot(X, np.array([3, 2, 1])) + np.random.randn(100)\n",
    "\n",
    "# Normalize the features (optional, but often recommended)\n",
    "X_mean = np.mean(X, axis=0)\n",
    "X_std = np.std(X, axis=0)\n",
    "X = (X - X_mean) / X_std\n",
    "\n",
    "# Initialize model parameters (weights and bias)\n",
    "num_features = X.shape[1]\n",
    "theta = np.random.randn(num_features)\n",
    "bias = np.random.randn()\n",
    "\n",
    "# Set hyperparameters\n",
    "learning_rate = 0.01\n",
    "num_epochs = 1000\n",
    "\n",
    "# Define the cost function (mean squared error)\n",
    "def cost_function(X, y, theta, bias):\n",
    "    predictions = np.dot(X, theta) + bias\n",
    "    error = predictions - y\n",
    "    cost = (1 / (2 * len(y))) * np.sum(error**2)\n",
    "    return cost\n",
    "\n",
    "# Gradient Descent\n",
    "for epoch in range(num_epochs):\n",
    "    # Compute predictions\n",
    "    predictions = np.dot(X, theta) + bias\n",
    "\n",
    "    # Compute the gradient for weights and bias\n",
    "    dtheta = (1 / len(y)) * np.dot(X.T, (predictions - y))\n",
    "    dbias = (1 / len(y)) * np.sum(predictions - y)\n",
    "\n",
    "    # Update model parameters\n",
    "    theta -= learning_rate * dtheta\n",
    "    bias -= learning_rate * dbias\n",
    "\n",
    "    # Calculate and print the cost for monitoring\n",
    "    cost = cost_function(X, y, theta, bias)\n",
    "    print(f\"Epoch {epoch+1}, Cost: {cost}\")\n",
    "\n",
    "print(\"Final Weights (theta):\", theta)\n",
    "print(\"Final Bias (bias):\", bias)\n",
    "\n"
   ]
  },
  {
   "cell_type": "markdown",
   "metadata": {},
   "source": [
    "#### Accuracy Comparison"
   ]
  },
  {
   "cell_type": "code",
   "execution_count": 13,
   "metadata": {
    "ExecuteTime": {
     "end_time": "2023-10-26T15:38:06.426742500Z",
     "start_time": "2023-10-26T15:38:06.394263400Z"
    }
   },
   "outputs": [],
   "source": [
    "\n",
    "#RMSE & MSE\n",
    "from sklearn.metrics import mean_squared_error\n",
    "mse_LR = mean_squared_error(y_test,yPred_LR)\n",
    "rmse_LR = np.sqrt(mse_LR)\n",
    "print(\"MSE: \",mse_LR)\n",
    "print(\"RMSE: \",rmse_LR)\n",
    "\n",
    "#MAE\n",
    "from sklearn.metrics import mean_absolute_error\n",
    "mae_LR = mean_absolute_error(y_test,yPred_LR)\n",
    "print(\"MAE: \",mae_LR)"
   ]
  },
  {
   "cell_type": "markdown",
   "metadata": {},
   "source": [
    "#### Computation of Residual Error"
   ]
  },
  {
   "cell_type": "code",
   "execution_count": 14,
   "metadata": {
    "ExecuteTime": {
     "end_time": "2023-10-26T15:38:06.426742500Z",
     "start_time": "2023-10-26T15:38:06.411777800Z"
    }
   },
   "outputs": [],
   "source": [
    "residuals_LR = y_test - yPred_LR\n",
    "\n",
    "print(residuals_LR)\n",
    "\n",
    "#Plot the residuals\n",
    "import matplotlib.pyplot as plt\n",
    "plt.scatter(y_test,residuals_LR)\n",
    "plt.xlabel(\"y_test\")\n",
    "plt.ylabel(\"residuals_LR\")\n",
    "plt.show()"
   ]
  },
  {
   "cell_type": "markdown",
   "metadata": {},
   "source": [
    "## Polynomial Regression"
   ]
  },
  {
   "cell_type": "code",
   "execution_count": 15,
   "metadata": {
    "ExecuteTime": {
     "end_time": "2023-10-26T15:38:06.494921900Z",
     "start_time": "2023-10-26T15:38:06.425746500Z"
    }
   },
   "outputs": [],
   "source": [
    "#Polynomial Regression\n",
    "from sklearn.preprocessing import PolynomialFeatures\n",
    "from sklearn.linear_model import LinearRegression\n",
    "from sklearn.metrics import mean_squared_error,mean_absolute_error\n",
    "\n",
    "\n",
    "rmse_Values = [] #List to store the RMSE values for different degree of polynomial\n",
    "degrees = list(range(1, 11)) #List to store the degree of polynomial\n",
    "\n",
    "for i in range(1,11):\n",
    "    poly_features = PolynomialFeatures(degree=i) #Create a PolynomialFeatures object of degree i\n",
    "    X_train_poly = poly_features.fit_transform(x_train) #Transform the training set\n",
    "    X_test_poly = poly_features.transform(x_test) #Transform the test set\n",
    "    poly_model = LinearRegression() #Create a LinearRegression object\n",
    "    poly_model.fit(X_train_poly, y_train) #Fit the model on the training set\n",
    "    y_pred_poly = poly_model.predict(X_test_poly) #Predict the test set\n",
    "    rmse = np.sqrt(mean_squared_error(y_test,y_pred_poly)) #Calculate the RMSE value\n",
    "    rmse_Values.append(rmse) #Append the RMSE value to the list\n",
    "    print(\"RMSE for degree \"+str(i)+\" is \"+str(rmse)) #Print the RMSE value\n",
    "\n",
    "#Change list to array to plot the values\n",
    "print(rmse_Values)\n",
    "\n",
    "rmse_Values = np.array(rmse_Values)\n",
    "degrees = np.array(degrees)\n",
    "\n",
    "\n",
    "#Plotting the RMSE values with degree\n",
    "import matplotlib.pyplot as plt\n",
    "plt.figure() #Create a new figure\n",
    "plt.plot(degrees,rmse_Values,marker='o') #Plot the RMSE values\n",
    "plt.title('RMSE VS Polynomial Degree') #Set the title of the plot\n",
    "plt.xlabel('Polynomial Degree') #Set the x label of the plot\n",
    "plt.ylabel('RMSE') #Set the y label of the plot\n",
    "plt.grid(True) #Set the grid for the plot\n",
    "plt.show() #Display the plot"
   ]
  },
  {
   "cell_type": "markdown",
   "metadata": {},
   "source": [
    "#### Computation of Residual Error"
   ]
  },
  {
   "cell_type": "code",
   "execution_count": 16,
   "metadata": {
    "ExecuteTime": {
     "end_time": "2023-10-26T15:38:06.494921900Z",
     "start_time": "2023-10-26T15:38:06.442406400Z"
    }
   },
   "outputs": [],
   "source": [
    "residuals_poly = y_test - y_pred_poly\n",
    "\n",
    "print(residuals_poly)\n",
    "\n",
    "#Plot of residuals\n",
    "import matplotlib.pyplot as plt\n",
    "plt.scatter(y_test,residuals_poly)\n",
    "plt.xlabel(\"y_test\")\n",
    "plt.ylabel(\"residuals_poly\")\n",
    "plt.show()"
   ]
  }
 ],
 "metadata": {
  "kernelspec": {
   "display_name": "Python 3",
   "language": "python",
   "name": "python3"
  },
  "language_info": {
   "codemirror_mode": {
    "name": "ipython",
    "version": 3
   },
   "file_extension": ".py",
   "mimetype": "text/x-python",
   "name": "python",
   "nbconvert_exporter": "python",
   "pygments_lexer": "ipython3",
   "version": "3.11.2"
  }
 },
 "nbformat": 4,
 "nbformat_minor": 2
}
